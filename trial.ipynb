{
  "nbformat": 4,
  "nbformat_minor": 0,
  "metadata": {
    "colab": {
      "name": "trial.ipynb",
      "provenance": [],
      "collapsed_sections": [],
      "mount_file_id": "1l5JMNcV5bnwoJQcBasmcZEJ9fKkJyupq",
      "authorship_tag": "ABX9TyPf+B6kra25gZuNpB2X2DVy",
      "include_colab_link": true
    },
    "kernelspec": {
      "name": "python3",
      "display_name": "Python 3"
    },
    "language_info": {
      "name": "python"
    },
    "accelerator": "GPU"
  },
  "cells": [
    {
      "cell_type": "markdown",
      "metadata": {
        "id": "view-in-github",
        "colab_type": "text"
      },
      "source": [
        "<a href=\"https://colab.research.google.com/github/PyLink88/PyLink88/blob/main/trial.ipynb\" target=\"_parent\"><img src=\"https://colab.research.google.com/assets/colab-badge.svg\" alt=\"Open In Colab\"/></a>"
      ]
    },
    {
      "cell_type": "code",
      "metadata": {
        "id": "_K83NpfacyUK"
      },
      "source": [
        ""
      ],
      "execution_count": null,
      "outputs": []
    },
    {
      "cell_type": "code",
      "metadata": {
        "id": "LdyyRBrIuHmd"
      },
      "source": [
        "import os\n",
        "os.chdir('/content/drive/MyDrive/Recurrent-Autoencoder-auc_loss/Recurrent-Autoencoder-auc_loss')"
      ],
      "execution_count": null,
      "outputs": []
    },
    {
      "cell_type": "code",
      "metadata": {
        "colab": {
          "base_uri": "https://localhost:8080/"
        },
        "id": "iu0zifeMugCO",
        "outputId": "9c661385-99b1-4fcb-838d-2f8c2c49d331"
      },
      "source": [
        "!python utils/create_config.py"
      ],
      "execution_count": null,
      "outputs": [
        {
          "output_type": "stream",
          "text": [
            "Config successfully written\n"
          ],
          "name": "stdout"
        }
      ]
    },
    {
      "cell_type": "code",
      "metadata": {
        "colab": {
          "base_uri": "https://localhost:8080/"
        },
        "id": "hsLRg-gSuz69",
        "outputId": "2cc94568-8a72-4f76-8905-48f2f0bd2ad2"
      },
      "source": [
        "!python utils/data_preparation.py 1 0.5 0.5 0.05"
      ],
      "execution_count": null,
      "outputs": [
        {
          "output_type": "stream",
          "text": [
            "### Starting downloading ECG5000 data ###\n",
            "### Download done! ###\n",
            "Extracting all the files now...\n",
            "Extraction done!\n",
            "Saved data in numpy\n",
            "Data preparation done!\n"
          ],
          "name": "stdout"
        }
      ]
    },
    {
      "cell_type": "code",
      "metadata": {
        "colab": {
          "base_uri": "https://localhost:8080/"
        },
        "id": "j9uxiVMoweDl",
        "outputId": "e77aac7d-c5a3-48fe-85d9-b62c37203011"
      },
      "source": [
        "!python main.py configs/config_rnn_ae.json"
      ],
      "execution_count": null,
      "outputs": [
        {
          "output_type": "stream",
          "text": [
            " *************************************** \n",
            "Experiment name: rnn_ae_ECG5000_exp_0_b\n",
            " *************************************** \n",
            "RecurrentAEAgent\n",
            "Checkpoints folder ./experiments/checkpoints/rnn_ae_ECG5000_exp_0_b already exists\n",
            "Operation will be on *****GPU-CUDA***** \n",
            "Training a new model from scratch\n",
            "Saved configuration in ./experiments/checkpoints/rnn_ae_ECG5000_exp_0_b/\n",
            "Epoch-0-: 100% 12/12 [00:00<00:00, 18.50it/s]\n",
            "Training loss at epoch 0 is 0.6717494825522105\n",
            "Validation at epoch -0-: 100% 3/3 [00:00<00:00, 58.26it/s]\n",
            "Validation loss at epoch 0 is 0.6674147645632426\n",
            "Saving a best model\n",
            "Epoch-1-: 100% 12/12 [00:00<00:00, 18.24it/s]\n",
            "Training loss at epoch 1 is 0.669277181228002\n",
            "Validation at epoch -1-: 100% 3/3 [00:00<00:00, 50.37it/s]\n",
            "Validation loss at epoch 1 is 0.6654995282491049\n",
            "Saving a best model\n",
            "Epoch-2-:  50% 6/12 [00:00<00:00, 18.49it/s]Traceback (most recent call last):\n",
            "  File \"main.py\", line 31, in <module>\n",
            "    main()\n",
            "  File \"main.py\", line 27, in main\n",
            "    agent.run()\n",
            "  File \"/content/drive/My Drive/Recurrent-Autoencoder-auc_loss/Recurrent-Autoencoder-auc_loss/agents/rnn_autoencoder.py\", line 246, in run\n",
            "    self.train()\n",
            "  File \"/content/drive/My Drive/Recurrent-Autoencoder-auc_loss/Recurrent-Autoencoder-auc_loss/agents/rnn_autoencoder.py\", line 87, in train\n",
            "    perf_train = self.train_one_epoch()\n",
            "  File \"/content/drive/My Drive/Recurrent-Autoencoder-auc_loss/Recurrent-Autoencoder-auc_loss/agents/rnn_autoencoder.py\", line 142, in train_one_epoch\n",
            "    cur_tr_loss.backward()\n",
            "  File \"/usr/local/lib/python3.7/dist-packages/torch/tensor.py\", line 245, in backward\n",
            "    torch.autograd.backward(self, gradient, retain_graph, create_graph, inputs=inputs)\n",
            "  File \"/usr/local/lib/python3.7/dist-packages/torch/autograd/__init__.py\", line 147, in backward\n",
            "    allow_unreachable=True, accumulate_grad=True)  # allow_unreachable flag\n",
            "KeyboardInterrupt\n",
            "Epoch-2-:  50% 6/12 [00:00<00:00, 12.35it/s]\n"
          ],
          "name": "stdout"
        }
      ]
    },
    {
      "cell_type": "code",
      "metadata": {
        "colab": {
          "base_uri": "https://localhost:8080/"
        },
        "id": "oA81iQgANtuY",
        "outputId": "2ff9898d-f70c-4a3c-abc4-0a7c6ab4afa6"
      },
      "source": [
        "## If you are running on Google Colab, uncomment below to install the necessary dependencies \n",
        "## before beginning the exercise.\n",
        "## https://colab.research.google.com/github/ray-project/tutorial/blob/master/tune_exercises/exercise_2_optimize.ipynb#scrollTo=1-Mt9Cp7N8IZ\n",
        "\n",
        "\n",
        "print(\"Setting up colab environment\")\n",
        "!pip uninstall -y -q pyarrow\n",
        "!pip install -q -U ray[tune]\n",
        "!pip install -q ray[debug]\n",
        "\n",
        "# # A hack to force the runtime to restart, needed to include the above dependencies.\n",
        "print(\"Done installing! Restarting via forced crash.\")\n",
        "import os\n",
        "os._exit(0)"
      ],
      "execution_count": null,
      "outputs": [
        {
          "output_type": "stream",
          "text": [
            "Setting up colab environment\n",
            "\u001b[K     |████████████████████████████████| 49.7MB 81kB/s \n",
            "\u001b[K     |████████████████████████████████| 1.0MB 37.0MB/s \n",
            "\u001b[K     |████████████████████████████████| 71kB 7.0MB/s \n",
            "\u001b[K     |████████████████████████████████| 3.1MB 30.6MB/s \n",
            "\u001b[K     |████████████████████████████████| 81kB 7.8MB/s \n",
            "\u001b[K     |████████████████████████████████| 1.3MB 32.9MB/s \n",
            "\u001b[K     |████████████████████████████████| 81kB 7.7MB/s \n",
            "\u001b[K     |████████████████████████████████| 133kB 54.5MB/s \n",
            "\u001b[K     |████████████████████████████████| 122kB 42.8MB/s \n",
            "\u001b[K     |████████████████████████████████| 92kB 9.0MB/s \n",
            "\u001b[K     |████████████████████████████████| 296kB 46.1MB/s \n",
            "\u001b[K     |████████████████████████████████| 143kB 57.1MB/s \n",
            "\u001b[?25h  Building wheel for gpustat (setup.py) ... \u001b[?25l\u001b[?25hdone\n",
            "\u001b[33m  WARNING: ray 1.3.0 does not provide the extra 'debug'\u001b[0m\n"
          ],
          "name": "stdout"
        }
      ]
    },
    {
      "cell_type": "code",
      "metadata": {
        "colab": {
          "base_uri": "https://localhost:8080/"
        },
        "id": "fEKfuAiBOFxM",
        "outputId": "2feef443-73e2-43c3-aeb6-df79e461e6f1"
      },
      "source": [
        "# Imports\n",
        "from functools import partial\n",
        "import numpy as np\n",
        "import os\n",
        "import torch\n",
        "import torch.nn as nn\n",
        "import torch.nn.functional as F\n",
        "import torch.optim as optim\n",
        "from ray import tune\n",
        "from ray.tune import CLIReporter\n",
        "from ray.tune.schedulers import ASHAScheduler\n",
        "from easydict import EasyDict\n",
        "\n",
        "\n",
        "# Setting working directory\n",
        "os.chdir('/content/drive/MyDrive/Recurrent-Autoencoder-auc_loss/Recurrent-Autoencoder-auc_loss')\n",
        "\n",
        "from agents.rnn_autoencoder import RecurrentAEAgent\n",
        "import torch\n",
        "from torch import nn\n",
        "from graphs.models.recurrent_autoencoder import RecurrentAE\n",
        "from functools import partial\n",
        "\n",
        "import warnings\n",
        "warnings.filterwarnings(\"ignore\")"
      ],
      "execution_count": 1,
      "outputs": [
        {
          "output_type": "stream",
          "text": [
            "/usr/local/lib/python3.7/dist-packages/ray/autoscaler/_private/cli_logger.py:61: FutureWarning: Not all Ray CLI dependencies were found. In Ray 1.4+, the Ray CLI, autoscaler, and dashboard will only be usable via `pip install 'ray[default]'`. Please update your install command.\n",
            "  \"update your install command.\", FutureWarning)\n"
          ],
          "name": "stderr"
        }
      ]
    },
    {
      "cell_type": "code",
      "metadata": {
        "id": "D-LMit5KX-eJ"
      },
      "source": [
        "# https://stackoverflow.com/questions/44260217/hyperparameter-optimization-for-pytorch-model\n",
        "def tune_model(config):\n",
        "    os.chdir('/content/drive/MyDrive/Recurrent-Autoencoder-auc_loss/Recurrent-Autoencoder-auc_loss')\n",
        "  # Setting the configuration\n",
        "    config_rnn_ae = {\n",
        "\n",
        "    # Experiment information\n",
        "    \"exp_name\": \"rnn_ae_ECG5000_exp_0_b\",\n",
        "    \"agent\": \"RecurrentAEAgent\",\n",
        "\n",
        "    # Architecture hyperparameters\n",
        "    \"rnn_type\": \"GRU\",\n",
        "    \"rnn_act\": \"None\",\n",
        "    \"n_layers\": 1,\n",
        "    \"n_features\": 1,\n",
        "\n",
        "    # Optimization hyperparameters\n",
        "    \"learning_rate\": 0.001,\n",
        "    \"batch_size\": 128,\n",
        "    \"batch_size_val\": 256,\n",
        "    \"max_epoch\": 5,\n",
        "\n",
        "    # Loss function\n",
        "    'loss': 'MAEAUC',\n",
        "\n",
        "    # AUC hyperparameters\n",
        "    'lambda_auc': 0.1,\n",
        "    'sampler_random_state': 88,\n",
        "\n",
        "    # Folder where to retrieve the data and their names\n",
        "    \"data_folder\": \"./data/ECG5000/numpy/\",\n",
        "    \"X_train\": \"X_train.npy\",\n",
        "    \"y_train\": \"y_train.npy\",\n",
        "    \"X_train_p\": \"X_train_p.npy\",\n",
        "    \"y_train_p\": \"y_train_p.npy\",\n",
        "    \"X_val\": \"X_val.npy\",\n",
        "    \"y_val\": \"y_val.npy\",\n",
        "    \"X_test\": \"X_test.npy\",\n",
        "    \"y_test\": \"y_test.npy\",\n",
        "    \"X_val_p\": \"X_val_p.npy\",\n",
        "    \"y_val_p\": \"y_val_p.npy\",\n",
        "\n",
        "    # Training type: by now set equal to \"one_class\"\n",
        "    \"training_type\": \"more_class\",\n",
        "    \"validation_type\": \"one_class\",\n",
        "\n",
        "    # Checkpoints\n",
        "    \"checkpoint_file\": \"checkpoint.pth.tar\",\n",
        "    \"checkpoint_dir\": \"./experiments/checkpoints/\",\n",
        "    \"load_checkpoint\": False,\n",
        "\n",
        "    # GPU settings\n",
        "    \"cuda\": True,\n",
        "    \"device\": \"cuda\",\n",
        "    \"gpu_device\": 0,\n",
        "    \"seed\": 58\n",
        "}\n",
        "\n",
        "\n",
        "    config_rnn_ae = EasyDict(config_rnn_ae)\n",
        "    if config[\"loss_type\"] == 'MAE':\n",
        "      config_rnn_ae.training_type = 'one_class'\n",
        "    else:\n",
        "      config_rnn_ae.training_type = 'more_class'\n",
        "\n",
        "    agent = RecurrentAEAgent(config_rnn_ae)\n",
        "\n",
        "    # Setting the model\n",
        "    agent.model = RecurrentAE(config[\"latent_dim\"], agent.config)\n",
        "    agent.model.to(agent.device)\n",
        "\n",
        "    # Setting the loss\n",
        "    agent.loss = agent.possible_loss[config[\"loss_type\"]]\n",
        "    agent.loss.to(agent.device)\n",
        "\n",
        "    # Setting the optimizer\n",
        "    agent.optimizer = torch.optim.Adam(agent.model.parameters(), lr = config[\"lr\"])\n",
        "    agent.train()\n",
        "    perf = agent.best_valid\n",
        "    tune.report(mean_accuracy=perf)\n",
        "\n",
        "\n",
        "\n",
        "analysis = tune.run(tune_model, \n",
        "                    config={\"latent_dim\": tune.grid_search([32, 48, 64, 80]),\n",
        "                                        \"lr\": tune.grid_search([0.001, 0.01, 0.1]),\n",
        "                                        \"loss_type\": tune.grid_search(['MAE','MAEAUC'])}, \n",
        "                    resources_per_trial = {\"cpu\": 2, \"gpu\": 1})"
      ],
      "execution_count": null,
      "outputs": []
    },
    {
      "cell_type": "code",
      "metadata": {
        "id": "fRK2hca8-ckN"
      },
      "source": [
        "df = analysis.dataframe()"
      ],
      "execution_count": null,
      "outputs": []
    },
    {
      "cell_type": "code",
      "metadata": {
        "colab": {
          "base_uri": "https://localhost:8080/",
          "height": 36
        },
        "id": "S-jYhJNl-r5y",
        "outputId": "90e5d821-58b8-4d11-fd27-f5da7c9bec96"
      },
      "source": [
        "df.logdir.iloc[0]"
      ],
      "execution_count": null,
      "outputs": [
        {
          "output_type": "execute_result",
          "data": {
            "application/vnd.google.colaboratory.intrinsic+json": {
              "type": "string"
            },
            "text/plain": [
              "'/root/ray_results/tune_model_2021-05-14_09-25-44/tune_model_5bfe9_00000_0_latent_dim=32,lr=0.001_2021-05-14_09-25-45'"
            ]
          },
          "metadata": {
            "tags": []
          },
          "execution_count": 8
        }
      ]
    },
    {
      "cell_type": "code",
      "metadata": {
        "id": "fXyiL5ko-sid"
      },
      "source": [
        ""
      ],
      "execution_count": null,
      "outputs": []
    }
  ]
}